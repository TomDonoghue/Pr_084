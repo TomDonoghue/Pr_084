{
 "cells": [
  {
   "cell_type": "code",
   "execution_count": null,
   "metadata": {
    "collapsed": true
   },
   "outputs": [],
   "source": [
    "# COGS 108 - Project Proposal"
   ]
  },
  {
   "cell_type": "markdown",
   "metadata": {},
   "source": [
    "## Important\n",
    "\n",
    "- Make sure all group members (3-5 people) are listed in the group members section.\n",
    "- ONE, and only one, member of your group should upload this notebook to TritonED. \n",
    "- Each member of the group will receive the same grade on this assignment. \n",
    "- Keep the file name the same: submit the file 'ProjectProposal.ipynb'"
   ]
  },
  {
   "cell_type": "markdown",
   "metadata": {},
   "source": [
    "## Overview"
   ]
  },
  {
   "cell_type": "markdown",
   "metadata": {},
   "source": [
    "Read the project description and detailed instructions for this assignment in the 'ProjectOutline' document."
   ]
  },
  {
   "cell_type": "code",
   "execution_count": null,
   "metadata": {
    "collapsed": true
   },
   "outputs": [],
   "source": [
    "## Group Members: Fill in the Student IDs of each group member here\n",
    "\n",
    "Replace the lines below to list each persons full student ID. Add lines as needed for your group size, and make sure each ID is listed on a separate line. \n",
    "\n",
    "- A10673470\n",
    "- A12351940\n",
    "- A12138344\n",
    "- A91112629\n",
    "- A91018689\n",
    "- A12450393"
   ]
  },
  {
   "cell_type": "markdown",
   "metadata": {},
   "source": [
    "### Research Question\n",
    "\n",
    "What is your research question? (1-2 sentences)"
   ]
  },
  {
   "cell_type": "markdown",
   "metadata": {},
   "source": [
    "What are the most common styles of craft beer by region in the United States?"
   ]
  },
  {
   "cell_type": "markdown",
   "metadata": {},
   "source": [
    "### Hypothesis\n",
    "\n",
    "What is your main hypothesis and predictions? (2-3 sentences)"
   ]
  },
  {
   "cell_type": "markdown",
   "metadata": {},
   "source": [
    "From our general background knowledge as consumers,  we believe Indian Pale Ales (IPA) are probably the most commonly produced style overall. However, we think that the California especially favors IPA’s and that other states will generally have more variety and a more spread out distribution of other types of beers."
   ]
  },
  {
   "cell_type": "markdown",
   "metadata": {},
   "source": [
    "### Dataset(s)\n",
    "\n",
    "What data will you use to answer your question? Describe the dataset(s) in terms of number of observations, what kind of features it contains, etc. You must use at least one dataset containing at least approximately 1000 observations (if your data are smaller but you feel they are sufficient, email Prof. Voytek). You are welcome (and in fact recommended) to find multiple datasets! If you do so, describe each one, and briefly explain how you will combine them together. "
   ]
  },
  {
   "cell_type": "markdown",
   "metadata": {
    "collapsed": true
   },
   "source": [
    "- **Name:** beers.csv\n",
    "- **Description:** This is a dataset of craft canned beers in America scraped from craftcans.com\n",
    "- **Link:** https://github.com/nickhould/craft-beers-dataset/blob/master/data/processed/beers.csv\n",
    "- **Observations:** 2,409\n",
    "- **Features:** \n",
    " - abv - alcohol by volume as a percentage\n",
    " - ibu - bitterness rating\n",
    " - id - identifier for each beer\n",
    " - name - name of the beer\n",
    " - style - style of beer (pale ale, stout, lager, etc)\n",
    " - brewery_id - identifier for breweries\n",
    " - ounces - volume of beer in ounces\n",
    "\n",
    "\n",
    "- **Name:** breweries.csv\n",
    "- **Description:** This is a dataset of craft canned beers in America scraped from craftcans.com\n",
    "- **Link:** https://github.com/nickhould/craft-beers-dataset/blob/master/data/processed/breweries.csv\n",
    "- **Observations:** 557\n",
    "- **Features:**\n",
    " - name - name of the beer\n",
    " - city - city where brewery is located\n",
    " - state - state where brewery is located\n",
    " - id - identifier for breweries\n",
    "\n",
    "We will merge the datasets by adding location data from breweries.csv as new labels in beers.csv, matching up the id in the former to the brewery_id in the latter."
   ]
  },
  {
   "cell_type": "markdown",
   "metadata": {},
   "source": [
    "### Background and Prior Work\n",
    "\n",
    "Why is this question of interest, what background information led you to your hypothesis, and why is this important?\n",
    "\n",
    "Find some relevant prior work, and reference those sources. Even if you think you have a totally novel question, find the most similar prior work that you can and discuss how it relates to your project. \n",
    "\n",
    "References can be research publications, but they need not be. Blogs, github repositories, company websites, etc., are all viable references if they are relevant to your project.\n",
    "\n",
    "(2-3 paragraphs, including at least 2 references)"
   ]
  },
  {
   "cell_type": "markdown",
   "metadata": {},
   "source": [
    "Our team likes beer, and we also travel. It’s interesting to us how different the varieties of available beer are in other countries and how America’s newfound love for beer has made the craft brewing scene evolve differently than it did in other regions of the world. Since America itself is a large country and has different cultures within it, we’re wondering if different parts of the United States have differing preferences for style of beer. We know IPA’s are huge on the West Coast, but is that true in other states as well?\n",
    "\n",
    "We found inspiration from an interesting study by Brewer’s Association that looks at number of craft breweries by state and has some general stats showing trends of how popular craft beer is in general. We also found a cool interactive map that was made by a team at University of Kentucky which actually measures popularity of the types of beers by scraping tweets. The issue with that tool is that it’s based off of social media hype which does not necessarily indicate what’s available on the market. Additionally, it isn’t as easy to identify which styles are most prominent since the available tags include styles such as “Weiss” but also specific brands like “Corona.” This means that it includes non-craft beers.\n",
    "\n",
    "**References:**\n",
    "https://www.brewersassociation.org/statistics/by-state/\n",
    "http://newmapsplus.uky.edu/gallery/beer-tweets/#"
   ]
  },
  {
   "cell_type": "markdown",
   "metadata": {},
   "source": [
    "### Proposed Methods\n",
    "\n",
    "What methods will you use to analyze your data?\n",
    "\n",
    "- How 'clean' is the data? To the extent that it requires cleaning, how will you do so?\n",
    "- How will you analyze the data? Be as specific as you can. Briefly mention any pre-processing steps that are required for your methods (for example, checking data distributions and performing any transformations that may be required). Include a brief outline of how you will apply your chosen method(s). \n",
    "- What do you plan to report? Briefly mention any key visualizations you plan to create, and/or the kind of results you will be able to report that address your question (this could be, for example, the outcome of some statistical test(s), prediction error on a model, a model fit parameter, etc.).\n",
    "- Include a list of packages you expect to use for you project. If you plan to use packages we have not used in class, add a very brief description about them (a few words is sufficient). "
   ]
  },
  {
   "cell_type": "markdown",
   "metadata": {},
   "source": [
    "**Data Cleaning:** \n",
    "\tWe will use the methods learned in class to create cleaner beer data. The data looks like it has been cleaned before since  it does not seem to have many Nans, and does not have outliers nor inconsistent numbers. However, in order to classify styles of beer, we will probably have to manually group different styles that are overly-specific in the dataset. For example, “Oatmeal Stout” and “Coffee Stout” are too granular for what we want and would likely group them under a “Stout” category. We will also need to move the location data from the breweries.csv file into the beers.csv file and expand that one.\n",
    "\n",
    "**Data Analysis:**\n",
    "\tWe found two datasets that were useful to test our hypothesis. One dataset contains the type of beer and other information about individual beers as well as an ID corresponding to the brewery they are made in. The other dataset contains those breweries and their names and ID’s as well as the state where that breweries are located in. We are joining these two datasets to determine which state the brewers are in. Then, we will sum the types of beers within each state and mark the largest sum as the most popular. With this we will be able to make comparisons between states by knowing the most popular beer for each state. \n",
    "  \n",
    "**What to report:**\n",
    "\tWe plan on reporting a map of the United States that shows the most popular beer for each state. Based on the results, we will be able to tell the differences in each state’s beer preferences. These differences will let us report if our hypothesis is correct or wrong.\n",
    "\n",
    "**Packages we plan to use:**\n",
    "- Pandas\n",
    "- Numpy\n",
    "- Matplotlib\n",
    "- Geopandas\n"
   ]
  },
  {
   "cell_type": "markdown",
   "metadata": {},
   "source": [
    "### Ethics and Privacy\n",
    "\n",
    "Briefly acknowledge and address any potential issues of ethics and privacy for the proposed project. In particular:\n",
    "- Do you have permission to use this data, for this purpose?\n",
    "- Are there privacy concerns regarding your datasets that you need to deal with, and/or terms of use that you need to comply with?\n",
    "- Are there potential biases in your dataset(s), in terms of who it composes, and how it was collected, that may be problematic in terms of it allowing for equitable analysis? (For example, does your data exclude particular populations, or is it likely to reflect particular human biases in a way that could be a problem?) \n",
    "- Are there any other issues related to your topic area, data, and/or analyses that are potentially problematic in terms of data privacy and equitable impact?\n",
    "- How will you handle any issues you identify?\n",
    "\n",
    "(1-2 paragraphs)"
   ]
  },
  {
   "cell_type": "markdown",
   "metadata": {},
   "source": [
    "Information regarding beer is considered public information in the United States. Data.GOV provides datasets regarding beer sales and production. In our project we will be mostly looking at the characteristics of different beers in different states. The datasets we acquired are legal and we have permission to collect and analyze the information. Explicit permission has been granted from an MIT License to “use, copy, modify, merge, publish, distribute, sublicense, and/or sell copies of the Software” and the data provided. Regarding the privacy concerns of the datasets, brewing companies publicly release information about their beers for marketing or health regulation concerns. Therefore, there exists no privacy concern as brewing companies must make this information public and available. Part of our goal is to collect information of as many beers as possible as this will help us eliminate biases. We promise to not include personal biases on beers and/or exclude beers for any reason that would affect the ethics of this project. Any impact and issues that result from our analysis will not be made public and are for the purpose of this class and ourselves only. Any issues we identify during the project will be kept within the group and not made public until further research on how to handle the issue. We must clarify, we do not endorse the consumption of alcohol neither do we intend to harm the reputation of any specific beers. The data analyzed will be for informative purposes, beer lovers and science. \n"
   ]
  },
  {
   "cell_type": "markdown",
   "metadata": {},
   "source": [
    "### Discussion\n",
    "\n",
    "Discuss your project, looking forward to what your results might mean, how they fit it in with what is already known, and what problems you may encounter. \n",
    "\n",
    "In particular:\n",
    "- If your analyses and hypotheses are correct, what will be the contribution of this project to the topic domain? \n",
    "- Alternatively, what will you do if you methods don't work and/or your hypotheses are wrong? \n",
    "- What are the potential pitfalls and potential confounds of your data and/or methods that may cause problems, and/or influence your interpretations?\n",
    "\n",
    "(2-3 paragraphs)"
   ]
  },
  {
   "cell_type": "markdown",
   "metadata": {},
   "source": [
    "Our project will utilize datasets representing a wide variety of beers and breweries present in the United States. We are very interested in beer preferences within groups and believe that preferences might be heavily influenced by the location of the individual. With the recent phenomenon of craft beer in the USA, we are interested in studying the patterns of behavior exhibited by populations. We hope that we will be able to create a map of the country depicting the most popular types of beers in specific geographical regions. This might lead to a better understanding of different regional preferences. We particularly feel that states outside of California have more diversity and aren’t as saturated with just IPA’s.\n",
    "\n",
    "Overall, we hypothesize the most popular beer is the Indian Pale Ale and that the variety is greater outside of California. Whether or not our hypothesis is correct, we’re more interested in exploring the distributions of styles and trends across regions as a whole. Most similar research just tries to look at the craft beer movement as a whole or compares different brands. We will contribute by looking at which styles are most popular in America and break it down by region, something we have not really seen. The dataset, while it will need some cleaning does not seem like it will pose any major issues in helping us answer our question, but we may have to get creative with how we visualize the comparison of different styles of beer by state. \n",
    "\n",
    "Since the data we could find only consists of canned beers, there is a possibility that the trends we see do not fully apply to the craft movement as a whole. We’re willing to work with this caveat because beer in a can is not seen as negatively as it once was, and the canned form especially seems to be welcomed in the craft beer community. Therefore, we believe that the 2,000+ canned beers are mostly representative of the craft beer market as a whole.\n"
   ]
  }
 ],
 "metadata": {
  "kernelspec": {
   "display_name": "Python 3",
   "language": "python",
   "name": "python3"
  },
  "language_info": {
   "codemirror_mode": {
    "name": "ipython",
    "version": 3
   },
   "file_extension": ".py",
   "mimetype": "text/x-python",
   "name": "python",
   "nbconvert_exporter": "python",
   "pygments_lexer": "ipython3",
   "version": "3.6.3"
  }
 },
 "nbformat": 4,
 "nbformat_minor": 2
}
