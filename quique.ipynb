{
 "cells": [
  {
   "cell_type": "markdown",
   "metadata": {},
   "source": [
    "## Imports"
   ]
  },
  {
   "cell_type": "code",
   "execution_count": null,
   "metadata": {},
   "outputs": [],
   "source": [
    "import sys\n",
    "!pip install zipcode\n",
    "!pip install plotly"
   ]
  },
  {
   "cell_type": "code",
   "execution_count": 1,
   "metadata": {},
   "outputs": [],
   "source": [
    "import pandas as pd\n",
    "import numpy as np\n",
    "import folium\n",
    "import geocoder\n",
    "import zipcode\n",
    "import plotly\n",
    "import plotly.plotly as py\n",
    "from plotly.graph_objs import *\n",
    "from folium.plugins import FastMarkerCluster\n",
    "from folium.plugins import HeatMap\n",
    "from us_state_abbrev import us_state_abbrev\n"
   ]
  },
  {
   "cell_type": "markdown",
   "metadata": {},
   "source": [
    "## Data"
   ]
  },
  {
   "cell_type": "code",
   "execution_count": 2,
   "metadata": {
    "collapsed": true
   },
   "outputs": [],
   "source": [
    "df_beers = pd.read_csv('ucsd-sansdescrip03162018.csv', sep=\"|\")\n",
    "df_beers = df_beers.rename(index=str, columns={'BeerName': 'name', 'BeerStyleName': 'style', 'Entered': 'entry', 'RateCount': 'rate_count', 'BrewerCity': 'city', 'Abbrev':'state', 'BrewerZIPCode':'zipcode'})\n",
    "\n",
    "df_beers['name'] = df_beers['name'].str.strip()\n",
    "df_beers['style'] = df_beers['style'].str.strip()\n",
    "df_beers['city'] = df_beers['city'].str.strip()\n",
    "df_beers['state'] = df_beers['state'].str.strip()\n",
    "df_beers['zipcode'] = df_beers['zipcode'].str.strip()\n"
   ]
  },
  {
   "cell_type": "code",
   "execution_count": 3,
   "metadata": {},
   "outputs": [
    {
     "data": {
      "text/html": [
       "<div>\n",
       "<style>\n",
       "    .dataframe thead tr:only-child th {\n",
       "        text-align: right;\n",
       "    }\n",
       "\n",
       "    .dataframe thead th {\n",
       "        text-align: left;\n",
       "    }\n",
       "\n",
       "    .dataframe tbody tr th {\n",
       "        vertical-align: top;\n",
       "    }\n",
       "</style>\n",
       "<table border=\"1\" class=\"dataframe\">\n",
       "  <thead>\n",
       "    <tr style=\"text-align: right;\">\n",
       "      <th></th>\n",
       "      <th>name</th>\n",
       "      <th>style</th>\n",
       "      <th>entry</th>\n",
       "      <th>rate_count</th>\n",
       "      <th>city</th>\n",
       "      <th>state</th>\n",
       "      <th>zipcode</th>\n",
       "    </tr>\n",
       "  </thead>\n",
       "  <tbody>\n",
       "    <tr>\n",
       "      <th>0</th>\n",
       "      <td>Great Adirondack Haystack Blonde Ale</td>\n",
       "      <td>Golden Ale/Blond Ale</td>\n",
       "      <td>2003-11-20 08:38:18.000</td>\n",
       "      <td>18.0</td>\n",
       "      <td>Lake Placid</td>\n",
       "      <td>NY</td>\n",
       "      <td>12946</td>\n",
       "    </tr>\n",
       "    <tr>\n",
       "      <th>1</th>\n",
       "      <td>Great Divide Bee Sting Ale</td>\n",
       "      <td>Golden Ale/Blond Ale</td>\n",
       "      <td>2001-06-26 12:31:04.000</td>\n",
       "      <td>111.0</td>\n",
       "      <td>Denver</td>\n",
       "      <td>CO</td>\n",
       "      <td>80205</td>\n",
       "    </tr>\n",
       "    <tr>\n",
       "      <th>2</th>\n",
       "      <td>Newport Beach Blonde</td>\n",
       "      <td>Pilsener</td>\n",
       "      <td>2000-05-28 00:30:13.000</td>\n",
       "      <td>24.0</td>\n",
       "      <td>Newport Beach</td>\n",
       "      <td>CA</td>\n",
       "      <td>92663</td>\n",
       "    </tr>\n",
       "    <tr>\n",
       "      <th>3</th>\n",
       "      <td>Newport Beach Poohs Reserve Honey Ale</td>\n",
       "      <td>Golden Ale/Blond Ale</td>\n",
       "      <td>2000-05-28 00:31:35.000</td>\n",
       "      <td>1.0</td>\n",
       "      <td>Newport Beach</td>\n",
       "      <td>CA</td>\n",
       "      <td>92663</td>\n",
       "    </tr>\n",
       "    <tr>\n",
       "      <th>4</th>\n",
       "      <td>Newport Beach Brewhound Red Ale</td>\n",
       "      <td>American Pale Ale</td>\n",
       "      <td>2000-06-01 01:01:56.000</td>\n",
       "      <td>0.0</td>\n",
       "      <td>Newport Beach</td>\n",
       "      <td>CA</td>\n",
       "      <td>92663</td>\n",
       "    </tr>\n",
       "  </tbody>\n",
       "</table>\n",
       "</div>"
      ],
      "text/plain": [
       "                                    name                 style  \\\n",
       "0   Great Adirondack Haystack Blonde Ale  Golden Ale/Blond Ale   \n",
       "1             Great Divide Bee Sting Ale  Golden Ale/Blond Ale   \n",
       "2                   Newport Beach Blonde              Pilsener   \n",
       "3  Newport Beach Poohs Reserve Honey Ale  Golden Ale/Blond Ale   \n",
       "4        Newport Beach Brewhound Red Ale     American Pale Ale   \n",
       "\n",
       "                     entry  rate_count           city state zipcode  \n",
       "0  2003-11-20 08:38:18.000        18.0    Lake Placid    NY   12946  \n",
       "1  2001-06-26 12:31:04.000       111.0         Denver    CO   80205  \n",
       "2  2000-05-28 00:30:13.000        24.0  Newport Beach    CA   92663  \n",
       "3  2000-05-28 00:31:35.000         1.0  Newport Beach    CA   92663  \n",
       "4  2000-06-01 01:01:56.000         0.0  Newport Beach    CA   92663  "
      ]
     },
     "execution_count": 3,
     "metadata": {},
     "output_type": "execute_result"
    }
   ],
   "source": [
    "df_beers.head()"
   ]
  },
  {
   "cell_type": "markdown",
   "metadata": {},
   "source": [
    "### Adding latitude and longitude "
   ]
  },
  {
   "cell_type": "code",
   "execution_count": 57,
   "metadata": {
    "collapsed": true
   },
   "outputs": [],
   "source": [
    "def get_latitude(z):\n",
    "    try:\n",
    "        return zipcode.isequal(z).lat\n",
    "    except:\n",
    "        return np.nan\n",
    "\n",
    "def get_longitude(z):\n",
    "    try:\n",
    "        return zipcode.isequal(z).lon\n",
    "    except:\n",
    "        return np.nan"
   ]
  },
  {
   "cell_type": "code",
   "execution_count": null,
   "metadata": {
    "collapsed": true
   },
   "outputs": [],
   "source": [
    "# Setting lat/lng columns to beers df\n",
    "df_beers['lat'] = df_beers.apply(lambda x: get_latitude(x['zipcode']), axis=1)\n",
    "df_beers['lng'] = df_beers.apply(lambda x: get_longitude(x['zipcode']), axis=1)"
   ]
  },
  {
   "cell_type": "code",
   "execution_count": null,
   "metadata": {
    "collapsed": true
   },
   "outputs": [],
   "source": [
    "assert len([x for x in df_beers['lng'] if np.isnan(x)]) == len([x for x in df_beers['lat'] if np.isnan(x)])"
   ]
  },
  {
   "cell_type": "code",
   "execution_count": null,
   "metadata": {
    "collapsed": true
   },
   "outputs": [],
   "source": [
    "# Removing NaN\n",
    "df_beers = df_beers[~np.isnan(df_beers['lat'])]"
   ]
  },
  {
   "cell_type": "code",
   "execution_count": 58,
   "metadata": {
    "collapsed": true
   },
   "outputs": [],
   "source": [
    "assert len([x for x in df_beers['lat'] if np.isnan(x)]) == 0\n",
    "assert len([x for x in df_beers['lng'] if np.isnan(x)]) == 0 "
   ]
  },
  {
   "cell_type": "markdown",
   "metadata": {},
   "source": [
    "### Beers by state"
   ]
  },
  {
   "cell_type": "code",
   "execution_count": 4,
   "metadata": {
    "collapsed": true
   },
   "outputs": [],
   "source": [
    "# Counting breweries by state\n",
    "df_beers_by_state = df_beers.groupby(df_beers['state'].str.strip()).size().reset_index()\n",
    "df_beers_by_state = df_beers_by_state.rename(index=str, columns={0:'beers_count'})"
   ]
  },
  {
   "cell_type": "code",
   "execution_count": 5,
   "metadata": {},
   "outputs": [
    {
     "data": {
      "text/html": [
       "<div>\n",
       "<style>\n",
       "    .dataframe thead tr:only-child th {\n",
       "        text-align: right;\n",
       "    }\n",
       "\n",
       "    .dataframe thead th {\n",
       "        text-align: left;\n",
       "    }\n",
       "\n",
       "    .dataframe tbody tr th {\n",
       "        vertical-align: top;\n",
       "    }\n",
       "</style>\n",
       "<table border=\"1\" class=\"dataframe\">\n",
       "  <thead>\n",
       "    <tr style=\"text-align: right;\">\n",
       "      <th></th>\n",
       "      <th>state</th>\n",
       "      <th>beers_count</th>\n",
       "    </tr>\n",
       "  </thead>\n",
       "  <tbody>\n",
       "    <tr>\n",
       "      <th>0</th>\n",
       "      <td>AK</td>\n",
       "      <td>1830</td>\n",
       "    </tr>\n",
       "    <tr>\n",
       "      <th>1</th>\n",
       "      <td>AL</td>\n",
       "      <td>1154</td>\n",
       "    </tr>\n",
       "    <tr>\n",
       "      <th>2</th>\n",
       "      <td>AR</td>\n",
       "      <td>490</td>\n",
       "    </tr>\n",
       "    <tr>\n",
       "      <th>3</th>\n",
       "      <td>AZ</td>\n",
       "      <td>4136</td>\n",
       "    </tr>\n",
       "    <tr>\n",
       "      <th>4</th>\n",
       "      <td>CA</td>\n",
       "      <td>36461</td>\n",
       "    </tr>\n",
       "  </tbody>\n",
       "</table>\n",
       "</div>"
      ],
      "text/plain": [
       "  state  beers_count\n",
       "0    AK         1830\n",
       "1    AL         1154\n",
       "2    AR          490\n",
       "3    AZ         4136\n",
       "4    CA        36461"
      ]
     },
     "execution_count": 5,
     "metadata": {},
     "output_type": "execute_result"
    }
   ],
   "source": [
    "df_beers_by_state.head()"
   ]
  },
  {
   "cell_type": "code",
   "execution_count": 6,
   "metadata": {},
   "outputs": [],
   "source": [
    "assert sum(df_beers_by_state['beers_count']) == (len(df_beers) - 1) # "
   ]
  },
  {
   "cell_type": "markdown",
   "metadata": {},
   "source": [
    "### Beers by city"
   ]
  },
  {
   "cell_type": "code",
   "execution_count": 92,
   "metadata": {
    "collapsed": true
   },
   "outputs": [],
   "source": [
    "df_beers_by_city = df_beers.groupby([df_beers['state'].str.upper().str.strip(), df_beers['city'].str.capitalize().str.strip()]).size().reset_index()\n",
    "df_beers_by_city = df_beers_by_city.rename(index=str, columns={0:'beers_count'})"
   ]
  },
  {
   "cell_type": "code",
   "execution_count": 93,
   "metadata": {},
   "outputs": [],
   "source": [
    "def get_zipcode(city, state):\n",
    "    try:\n",
    "        return df_beers['zipcode'][(state == df_beers['state']) & (city == df_beers['city'])][0]\n",
    "    except:\n",
    "        return np.nan"
   ]
  },
  {
   "cell_type": "code",
   "execution_count": 94,
   "metadata": {},
   "outputs": [],
   "source": [
    "# adding zipcode column\n",
    "df_beers_by_city['zipcode'] = df_beers_by_city.apply(lambda x: get_zipcode(x['city'], x['state']), axis=1)"
   ]
  },
  {
   "cell_type": "code",
   "execution_count": 95,
   "metadata": {},
   "outputs": [],
   "source": [
    "# Removing NaN\n",
    "df_beers_by_city = df_beers_by_city[~pd.isnull(df_beers_by_city['zipcode'])]"
   ]
  },
  {
   "cell_type": "code",
   "execution_count": 96,
   "metadata": {},
   "outputs": [],
   "source": [
    "# Cleaning zip code so that they are of len 5\n",
    "df_beers_by_city['zipcode'] = df_beers_by_city.apply(lambda x: x['zipcode'][:5], axis=1)"
   ]
  },
  {
   "cell_type": "code",
   "execution_count": 97,
   "metadata": {},
   "outputs": [],
   "source": [
    "# Setting lat/lng columns to df_beers_by_city\n",
    "df_beers_by_city['lat'] = df_beers_by_city.apply(lambda x: get_latitude(x['zipcode']), axis=1)\n",
    "df_beers_by_city['lng'] = df_beers_by_city.apply(lambda x: get_longitude(x['zipcode']), axis=1)"
   ]
  },
  {
   "cell_type": "code",
   "execution_count": 98,
   "metadata": {
    "collapsed": true
   },
   "outputs": [],
   "source": [
    "# Removing NaN\n",
    "df_beers_by_city = df_beers_by_city[~pd.isnull(df_beers_by_city['zipcode'])]"
   ]
  },
  {
   "cell_type": "code",
   "execution_count": 108,
   "metadata": {
    "collapsed": true
   },
   "outputs": [],
   "source": [
    "# Sorting data by beers_count\n",
    "df_beers_by_city = df_beers_by_city.sort_values(by=['beers_count'], ascending=False)"
   ]
  },
  {
   "cell_type": "code",
   "execution_count": 109,
   "metadata": {},
   "outputs": [
    {
     "data": {
      "text/html": [
       "<div>\n",
       "<style>\n",
       "    .dataframe thead tr:only-child th {\n",
       "        text-align: right;\n",
       "    }\n",
       "\n",
       "    .dataframe thead th {\n",
       "        text-align: left;\n",
       "    }\n",
       "\n",
       "    .dataframe tbody tr th {\n",
       "        vertical-align: top;\n",
       "    }\n",
       "</style>\n",
       "<table border=\"1\" class=\"dataframe\">\n",
       "  <thead>\n",
       "    <tr style=\"text-align: right;\">\n",
       "      <th></th>\n",
       "      <th>state</th>\n",
       "      <th>city</th>\n",
       "      <th>beers_count</th>\n",
       "      <th>zipcode</th>\n",
       "      <th>lat</th>\n",
       "      <th>lng</th>\n",
       "      <th>text</th>\n",
       "    </tr>\n",
       "  </thead>\n",
       "  <tbody>\n",
       "    <tr>\n",
       "      <th>422</th>\n",
       "      <td>CO</td>\n",
       "      <td>Denver</td>\n",
       "      <td>5400</td>\n",
       "      <td>80205</td>\n",
       "      <td>39.76</td>\n",
       "      <td>-104.87</td>\n",
       "      <td>Denver&lt;br&gt;Beers: 5400</td>\n",
       "    </tr>\n",
       "    <tr>\n",
       "      <th>1962</th>\n",
       "      <td>OR</td>\n",
       "      <td>Portland</td>\n",
       "      <td>5148</td>\n",
       "      <td>97214</td>\n",
       "      <td>45.51</td>\n",
       "      <td>-122.64</td>\n",
       "      <td>Portland&lt;br&gt;Beers: 5148</td>\n",
       "    </tr>\n",
       "    <tr>\n",
       "      <th>2580</th>\n",
       "      <td>WA</td>\n",
       "      <td>Seattle</td>\n",
       "      <td>4244</td>\n",
       "      <td>98105</td>\n",
       "      <td>47.66</td>\n",
       "      <td>-122.29</td>\n",
       "      <td>Seattle&lt;br&gt;Beers: 4244</td>\n",
       "    </tr>\n",
       "    <tr>\n",
       "      <th>1152</th>\n",
       "      <td>MN</td>\n",
       "      <td>Minneapolis</td>\n",
       "      <td>3178</td>\n",
       "      <td>55454</td>\n",
       "      <td>44.96</td>\n",
       "      <td>-93.26</td>\n",
       "      <td>Minneapolis&lt;br&gt;Beers: 3178</td>\n",
       "    </tr>\n",
       "    <tr>\n",
       "      <th>671</th>\n",
       "      <td>FL</td>\n",
       "      <td>Tampa</td>\n",
       "      <td>2504</td>\n",
       "      <td>33635</td>\n",
       "      <td>27.95</td>\n",
       "      <td>-82.48</td>\n",
       "      <td>Tampa&lt;br&gt;Beers: 2504</td>\n",
       "    </tr>\n",
       "  </tbody>\n",
       "</table>\n",
       "</div>"
      ],
      "text/plain": [
       "     state         city  beers_count zipcode    lat     lng  \\\n",
       "422     CO       Denver         5400   80205  39.76 -104.87   \n",
       "1962    OR     Portland         5148   97214  45.51 -122.64   \n",
       "2580    WA      Seattle         4244   98105  47.66 -122.29   \n",
       "1152    MN  Minneapolis         3178   55454  44.96  -93.26   \n",
       "671     FL        Tampa         2504   33635  27.95  -82.48   \n",
       "\n",
       "                            text  \n",
       "422        Denver<br>Beers: 5400  \n",
       "1962     Portland<br>Beers: 5148  \n",
       "2580      Seattle<br>Beers: 4244  \n",
       "1152  Minneapolis<br>Beers: 3178  \n",
       "671         Tampa<br>Beers: 2504  "
      ]
     },
     "execution_count": 109,
     "metadata": {},
     "output_type": "execute_result"
    }
   ],
   "source": [
    "df_beers_by_city.head()"
   ]
  },
  {
   "cell_type": "markdown",
   "metadata": {},
   "source": [
    "### Population Estimates (State)"
   ]
  },
  {
   "cell_type": "code",
   "execution_count": 79,
   "metadata": {
    "collapsed": true
   },
   "outputs": [],
   "source": [
    "df_population_estimates = pd.read_csv('raw_data/us_states_population_estimates.csv')\n",
    "df_population_estimates = df_population_estimates.rename(index=str, columns={'State': 'state', 'Population Estimate': 'population_estimate', 'Year': 'year'})"
   ]
  },
  {
   "cell_type": "code",
   "execution_count": 80,
   "metadata": {
    "collapsed": true
   },
   "outputs": [],
   "source": [
    "# Getting latest data (population estimates from 2017), dropping it, and removing Puerto Rico\n",
    "df_population_estimates = df_population_estimates[df_population_estimates['year'] == 2017]\n",
    "df_population_estimates = df_population_estimates.drop('year', axis=1)\n",
    "df_population_estimates = df_population_estimates[df_population_estimates['state'] != 'Puerto Rico']"
   ]
  },
  {
   "cell_type": "code",
   "execution_count": 81,
   "metadata": {
    "collapsed": true
   },
   "outputs": [],
   "source": [
    "assert len(df_population_estimates) == 51"
   ]
  },
  {
   "cell_type": "code",
   "execution_count": 82,
   "metadata": {
    "collapsed": true
   },
   "outputs": [],
   "source": [
    "# Converting full state name to its abbreviation\n",
    "df_population_estimates['state'] = df_population_estimates['state'].apply((lambda s: us_state_abbrev[s]))"
   ]
  },
  {
   "cell_type": "code",
   "execution_count": 83,
   "metadata": {},
   "outputs": [
    {
     "data": {
      "text/html": [
       "<div>\n",
       "<style>\n",
       "    .dataframe thead tr:only-child th {\n",
       "        text-align: right;\n",
       "    }\n",
       "\n",
       "    .dataframe thead th {\n",
       "        text-align: left;\n",
       "    }\n",
       "\n",
       "    .dataframe tbody tr th {\n",
       "        vertical-align: top;\n",
       "    }\n",
       "</style>\n",
       "<table border=\"1\" class=\"dataframe\">\n",
       "  <thead>\n",
       "    <tr style=\"text-align: right;\">\n",
       "      <th></th>\n",
       "      <th>state</th>\n",
       "      <th>population_estimate</th>\n",
       "    </tr>\n",
       "  </thead>\n",
       "  <tbody>\n",
       "    <tr>\n",
       "      <th>364</th>\n",
       "      <td>AL</td>\n",
       "      <td>4874747</td>\n",
       "    </tr>\n",
       "    <tr>\n",
       "      <th>365</th>\n",
       "      <td>AK</td>\n",
       "      <td>739795</td>\n",
       "    </tr>\n",
       "    <tr>\n",
       "      <th>366</th>\n",
       "      <td>AZ</td>\n",
       "      <td>7016270</td>\n",
       "    </tr>\n",
       "    <tr>\n",
       "      <th>367</th>\n",
       "      <td>AR</td>\n",
       "      <td>3004279</td>\n",
       "    </tr>\n",
       "    <tr>\n",
       "      <th>368</th>\n",
       "      <td>CA</td>\n",
       "      <td>39536653</td>\n",
       "    </tr>\n",
       "  </tbody>\n",
       "</table>\n",
       "</div>"
      ],
      "text/plain": [
       "    state  population_estimate\n",
       "364    AL              4874747\n",
       "365    AK               739795\n",
       "366    AZ              7016270\n",
       "367    AR              3004279\n",
       "368    CA             39536653"
      ]
     },
     "execution_count": 83,
     "metadata": {},
     "output_type": "execute_result"
    }
   ],
   "source": [
    "df_population_estimates.head()"
   ]
  },
  {
   "cell_type": "markdown",
   "metadata": {},
   "source": [
    "### Beers per capita by state"
   ]
  },
  {
   "cell_type": "code",
   "execution_count": 84,
   "metadata": {
    "collapsed": true
   },
   "outputs": [],
   "source": [
    "# Merging population estimates and beers by state\n",
    "df_beers_per_capita = pd.merge(df_population_estimates, df_beers_by_state, on='state')"
   ]
  },
  {
   "cell_type": "code",
   "execution_count": 85,
   "metadata": {
    "collapsed": true
   },
   "outputs": [],
   "source": [
    "# Beers per capita (1 beer per 100,000 habitants)\n",
    "df_beers_per_capita['beers_per_capita'] = df_beers_per_capita.apply((lambda r: int((r['beers_count']/r['population_estimate']) * 100000)), axis=1)"
   ]
  },
  {
   "cell_type": "code",
   "execution_count": 86,
   "metadata": {
    "collapsed": true
   },
   "outputs": [],
   "source": [
    "# Dropping beer count and population estimates for Map visualization\n",
    "df_beers_per_capita = df_beers_per_capita.drop('population_estimate', axis=1)\n",
    "df_beers_per_capita = df_beers_per_capita.drop('beers_count', axis=1)"
   ]
  },
  {
   "cell_type": "code",
   "execution_count": 87,
   "metadata": {},
   "outputs": [
    {
     "data": {
      "text/html": [
       "<div>\n",
       "<style>\n",
       "    .dataframe thead tr:only-child th {\n",
       "        text-align: right;\n",
       "    }\n",
       "\n",
       "    .dataframe thead th {\n",
       "        text-align: left;\n",
       "    }\n",
       "\n",
       "    .dataframe tbody tr th {\n",
       "        vertical-align: top;\n",
       "    }\n",
       "</style>\n",
       "<table border=\"1\" class=\"dataframe\">\n",
       "  <thead>\n",
       "    <tr style=\"text-align: right;\">\n",
       "      <th></th>\n",
       "      <th>state</th>\n",
       "      <th>beers_per_capita</th>\n",
       "    </tr>\n",
       "  </thead>\n",
       "  <tbody>\n",
       "    <tr>\n",
       "      <th>0</th>\n",
       "      <td>AL</td>\n",
       "      <td>23</td>\n",
       "    </tr>\n",
       "    <tr>\n",
       "      <th>1</th>\n",
       "      <td>AK</td>\n",
       "      <td>247</td>\n",
       "    </tr>\n",
       "    <tr>\n",
       "      <th>2</th>\n",
       "      <td>AZ</td>\n",
       "      <td>58</td>\n",
       "    </tr>\n",
       "    <tr>\n",
       "      <th>3</th>\n",
       "      <td>AR</td>\n",
       "      <td>16</td>\n",
       "    </tr>\n",
       "    <tr>\n",
       "      <th>4</th>\n",
       "      <td>CA</td>\n",
       "      <td>92</td>\n",
       "    </tr>\n",
       "  </tbody>\n",
       "</table>\n",
       "</div>"
      ],
      "text/plain": [
       "  state  beers_per_capita\n",
       "0    AL                23\n",
       "1    AK               247\n",
       "2    AZ                58\n",
       "3    AR                16\n",
       "4    CA                92"
      ]
     },
     "execution_count": 87,
     "metadata": {},
     "output_type": "execute_result"
    }
   ],
   "source": [
    "df_beers_per_capita.head()"
   ]
  },
  {
   "cell_type": "markdown",
   "metadata": {},
   "source": [
    "### Beers by cities"
   ]
  },
  {
   "cell_type": "code",
   "execution_count": 88,
   "metadata": {
    "collapsed": true
   },
   "outputs": [],
   "source": [
    "df_beers_CA = df_beers[df_beers['state'] == 'CA']\n",
    "df_beers_VT = df_beers[df_beers['state'] == 'VT']"
   ]
  },
  {
   "cell_type": "code",
   "execution_count": 89,
   "metadata": {},
   "outputs": [
    {
     "data": {
      "text/html": [
       "<div>\n",
       "<style>\n",
       "    .dataframe thead tr:only-child th {\n",
       "        text-align: right;\n",
       "    }\n",
       "\n",
       "    .dataframe thead th {\n",
       "        text-align: left;\n",
       "    }\n",
       "\n",
       "    .dataframe tbody tr th {\n",
       "        vertical-align: top;\n",
       "    }\n",
       "</style>\n",
       "<table border=\"1\" class=\"dataframe\">\n",
       "  <thead>\n",
       "    <tr style=\"text-align: right;\">\n",
       "      <th></th>\n",
       "      <th>name</th>\n",
       "      <th>style</th>\n",
       "      <th>entry</th>\n",
       "      <th>rate_count</th>\n",
       "      <th>city</th>\n",
       "      <th>state</th>\n",
       "      <th>zipcode</th>\n",
       "      <th>lat</th>\n",
       "      <th>lng</th>\n",
       "    </tr>\n",
       "  </thead>\n",
       "  <tbody>\n",
       "    <tr>\n",
       "      <th>2</th>\n",
       "      <td>Newport Beach Blonde</td>\n",
       "      <td>Pilsener</td>\n",
       "      <td>2000-05-28 00:30:13.000</td>\n",
       "      <td>24.0</td>\n",
       "      <td>Newport Beach</td>\n",
       "      <td>CA</td>\n",
       "      <td>92663</td>\n",
       "      <td>33.62</td>\n",
       "      <td>-117.93</td>\n",
       "    </tr>\n",
       "    <tr>\n",
       "      <th>3</th>\n",
       "      <td>Newport Beach Poohs Reserve Honey Ale</td>\n",
       "      <td>Golden Ale/Blond Ale</td>\n",
       "      <td>2000-05-28 00:31:35.000</td>\n",
       "      <td>1.0</td>\n",
       "      <td>Newport Beach</td>\n",
       "      <td>CA</td>\n",
       "      <td>92663</td>\n",
       "      <td>33.62</td>\n",
       "      <td>-117.93</td>\n",
       "    </tr>\n",
       "    <tr>\n",
       "      <th>4</th>\n",
       "      <td>Newport Beach Brewhound Red Ale</td>\n",
       "      <td>American Pale Ale</td>\n",
       "      <td>2000-06-01 01:01:56.000</td>\n",
       "      <td>0.0</td>\n",
       "      <td>Newport Beach</td>\n",
       "      <td>CA</td>\n",
       "      <td>92663</td>\n",
       "      <td>33.62</td>\n",
       "      <td>-117.93</td>\n",
       "    </tr>\n",
       "    <tr>\n",
       "      <th>5</th>\n",
       "      <td>Newport Beach Rye Grin Pale Ale</td>\n",
       "      <td>American Pale Ale</td>\n",
       "      <td>2000-05-28 00:34:21.000</td>\n",
       "      <td>0.0</td>\n",
       "      <td>Newport Beach</td>\n",
       "      <td>CA</td>\n",
       "      <td>92663</td>\n",
       "      <td>33.62</td>\n",
       "      <td>-117.93</td>\n",
       "    </tr>\n",
       "    <tr>\n",
       "      <th>8</th>\n",
       "      <td>Jupiter Pale Ale</td>\n",
       "      <td>American Pale Ale</td>\n",
       "      <td>2001-07-10 20:21:02.000</td>\n",
       "      <td>5.0</td>\n",
       "      <td>Berkeley</td>\n",
       "      <td>CA</td>\n",
       "      <td>94704</td>\n",
       "      <td>37.86</td>\n",
       "      <td>-122.25</td>\n",
       "    </tr>\n",
       "  </tbody>\n",
       "</table>\n",
       "</div>"
      ],
      "text/plain": [
       "                                    name                 style  \\\n",
       "2                   Newport Beach Blonde              Pilsener   \n",
       "3  Newport Beach Poohs Reserve Honey Ale  Golden Ale/Blond Ale   \n",
       "4        Newport Beach Brewhound Red Ale     American Pale Ale   \n",
       "5        Newport Beach Rye Grin Pale Ale     American Pale Ale   \n",
       "8                       Jupiter Pale Ale     American Pale Ale   \n",
       "\n",
       "                     entry  rate_count           city state zipcode    lat  \\\n",
       "2  2000-05-28 00:30:13.000        24.0  Newport Beach    CA   92663  33.62   \n",
       "3  2000-05-28 00:31:35.000         1.0  Newport Beach    CA   92663  33.62   \n",
       "4  2000-06-01 01:01:56.000         0.0  Newport Beach    CA   92663  33.62   \n",
       "5  2000-05-28 00:34:21.000         0.0  Newport Beach    CA   92663  33.62   \n",
       "8  2001-07-10 20:21:02.000         5.0       Berkeley    CA   94704  37.86   \n",
       "\n",
       "      lng  \n",
       "2 -117.93  \n",
       "3 -117.93  \n",
       "4 -117.93  \n",
       "5 -117.93  \n",
       "8 -122.25  "
      ]
     },
     "execution_count": 89,
     "metadata": {},
     "output_type": "execute_result"
    }
   ],
   "source": [
    "df_beers_CA.head()"
   ]
  },
  {
   "cell_type": "code",
   "execution_count": 90,
   "metadata": {},
   "outputs": [
    {
     "data": {
      "text/html": [
       "<div>\n",
       "<style>\n",
       "    .dataframe thead tr:only-child th {\n",
       "        text-align: right;\n",
       "    }\n",
       "\n",
       "    .dataframe thead th {\n",
       "        text-align: left;\n",
       "    }\n",
       "\n",
       "    .dataframe tbody tr th {\n",
       "        vertical-align: top;\n",
       "    }\n",
       "</style>\n",
       "<table border=\"1\" class=\"dataframe\">\n",
       "  <thead>\n",
       "    <tr style=\"text-align: right;\">\n",
       "      <th></th>\n",
       "      <th>name</th>\n",
       "      <th>style</th>\n",
       "      <th>entry</th>\n",
       "      <th>rate_count</th>\n",
       "      <th>city</th>\n",
       "      <th>state</th>\n",
       "      <th>zipcode</th>\n",
       "      <th>lat</th>\n",
       "      <th>lng</th>\n",
       "    </tr>\n",
       "  </thead>\n",
       "  <tbody>\n",
       "    <tr>\n",
       "      <th>48</th>\n",
       "      <td>Catamount Pale Ale</td>\n",
       "      <td>American Pale Ale</td>\n",
       "      <td>2001-02-13 21:34:07.000</td>\n",
       "      <td>31.0</td>\n",
       "      <td>White River Junction</td>\n",
       "      <td>VT</td>\n",
       "      <td>05001</td>\n",
       "      <td>43.65</td>\n",
       "      <td>-72.32</td>\n",
       "    </tr>\n",
       "    <tr>\n",
       "      <th>125</th>\n",
       "      <td>Catamount Wassail</td>\n",
       "      <td>Spice/Herb/Vegetable</td>\n",
       "      <td>2001-11-16 12:42:07.000</td>\n",
       "      <td>8.0</td>\n",
       "      <td>White River Junction</td>\n",
       "      <td>VT</td>\n",
       "      <td>05001</td>\n",
       "      <td>43.65</td>\n",
       "      <td>-72.32</td>\n",
       "    </tr>\n",
       "    <tr>\n",
       "      <th>224</th>\n",
       "      <td>Three Needs West Coast Pale Ale</td>\n",
       "      <td>American Pale Ale</td>\n",
       "      <td>2002-02-06 13:07:12.000</td>\n",
       "      <td>1.0</td>\n",
       "      <td>Burlington</td>\n",
       "      <td>VT</td>\n",
       "      <td>05401</td>\n",
       "      <td>44.48</td>\n",
       "      <td>-73.22</td>\n",
       "    </tr>\n",
       "    <tr>\n",
       "      <th>279</th>\n",
       "      <td>Vermont Pub Burly Irish Red</td>\n",
       "      <td>Irish Ale</td>\n",
       "      <td>2000-07-24 22:40:09.000</td>\n",
       "      <td>68.0</td>\n",
       "      <td>Burlington</td>\n",
       "      <td>VT</td>\n",
       "      <td>05401</td>\n",
       "      <td>44.48</td>\n",
       "      <td>-73.22</td>\n",
       "    </tr>\n",
       "    <tr>\n",
       "      <th>285</th>\n",
       "      <td>Vermont Pub Curacao Trippel</td>\n",
       "      <td>Abbey Tripel</td>\n",
       "      <td>2001-06-28 21:49:37.000</td>\n",
       "      <td>10.0</td>\n",
       "      <td>Burlington</td>\n",
       "      <td>VT</td>\n",
       "      <td>05401</td>\n",
       "      <td>44.48</td>\n",
       "      <td>-73.22</td>\n",
       "    </tr>\n",
       "  </tbody>\n",
       "</table>\n",
       "</div>"
      ],
      "text/plain": [
       "                                name                 style  \\\n",
       "48                Catamount Pale Ale     American Pale Ale   \n",
       "125                Catamount Wassail  Spice/Herb/Vegetable   \n",
       "224  Three Needs West Coast Pale Ale     American Pale Ale   \n",
       "279      Vermont Pub Burly Irish Red             Irish Ale   \n",
       "285      Vermont Pub Curacao Trippel          Abbey Tripel   \n",
       "\n",
       "                       entry  rate_count                  city state zipcode  \\\n",
       "48   2001-02-13 21:34:07.000        31.0  White River Junction    VT   05001   \n",
       "125  2001-11-16 12:42:07.000         8.0  White River Junction    VT   05001   \n",
       "224  2002-02-06 13:07:12.000         1.0            Burlington    VT   05401   \n",
       "279  2000-07-24 22:40:09.000        68.0            Burlington    VT   05401   \n",
       "285  2001-06-28 21:49:37.000        10.0            Burlington    VT   05401   \n",
       "\n",
       "       lat    lng  \n",
       "48   43.65 -72.32  \n",
       "125  43.65 -72.32  \n",
       "224  44.48 -73.22  \n",
       "279  44.48 -73.22  \n",
       "285  44.48 -73.22  "
      ]
     },
     "execution_count": 90,
     "metadata": {},
     "output_type": "execute_result"
    }
   ],
   "source": [
    "df_beers_VT.head()"
   ]
  },
  {
   "cell_type": "markdown",
   "metadata": {},
   "source": [
    "## Maps & Visualization"
   ]
  },
  {
   "cell_type": "markdown",
   "metadata": {},
   "source": [
    "### Beers by state (Colorpleth)"
   ]
  },
  {
   "cell_type": "code",
   "execution_count": 91,
   "metadata": {
    "collapsed": true
   },
   "outputs": [],
   "source": [
    "state_geo = r'data/us-states.json'\n",
    "\n",
    "beers_state_map = folium.Map(location=[48, -102], zoom_start=3)\n",
    "beers_state_map.choropleth(\n",
    "    geo_data=state_geo,\n",
    "    data=df_beers_by_state,\n",
    "    threshold_scale=[6000, 12000, 18000, 24000, 30000, 36000],\n",
    "    key_on='feature.id',\n",
    "    columns=['state', 'beers_count'],\n",
    "    fill_color='OrRd', fill_opacity=1, line_opacity=0.1,\n",
    "    )"
   ]
  },
  {
   "cell_type": "code",
   "execution_count": null,
   "metadata": {
    "scrolled": false
   },
   "outputs": [],
   "source": [
    "beers_state_map"
   ]
  },
  {
   "cell_type": "markdown",
   "metadata": {},
   "source": [
    "### Beers per capita by state (Colorpleth)"
   ]
  },
  {
   "cell_type": "code",
   "execution_count": null,
   "metadata": {
    "collapsed": true
   },
   "outputs": [],
   "source": [
    "state_geo = r'data/us-states.json'\n",
    "\n",
    "beers_per_capita_map = folium.Map(location=[48, -102], zoom_start=3)\n",
    "beers_per_capita_map.choropleth(\n",
    "    geo_data=state_geo,\n",
    "    data=df_beers_per_capita,\n",
    "    threshold_scale=[100, 200, 300, 400, 500, 600],\n",
    "    key_on='feature.id',\n",
    "    columns=['state', 'beers_per_capita'],\n",
    "    fill_color='OrRd', fill_opacity=1, line_opacity=0.1,\n",
    "    )"
   ]
  },
  {
   "cell_type": "code",
   "execution_count": null,
   "metadata": {
    "scrolled": false
   },
   "outputs": [],
   "source": [
    "beers_per_capita_map"
   ]
  },
  {
   "cell_type": "markdown",
   "metadata": {},
   "source": [
    "### Beers by city (HeatMap)"
   ]
  },
  {
   "cell_type": "code",
   "execution_count": null,
   "metadata": {},
   "outputs": [],
   "source": [
    "data = df_beers_CA.as_matrix(['lat', 'lng']).tolist()\n",
    "beers_CA_heatmap = folium.Map(location=[36, -120],tiles='stamentoner', zoom_start=5)\n",
    "HeatMap(data,radius=14).add_to(beers_CA_heatmap)\n",
    "beers_CA_heatmap"
   ]
  },
  {
   "cell_type": "code",
   "execution_count": null,
   "metadata": {},
   "outputs": [],
   "source": [
    "data = df_beers_VT.as_matrix(['lat', 'lng']).tolist()\n",
    "beers_VT_heatmap = folium.Map(location=[44, -73],tiles='stamentoner', zoom_start=6)\n",
    "HeatMap(data,radius=15).add_to(beers_VT_heatmap)\n",
    "beers_VT_heatmap"
   ]
  },
  {
   "cell_type": "code",
   "execution_count": null,
   "metadata": {},
   "outputs": [],
   "source": [
    "data = df_beers_CA.as_matrix(['lat', 'lng']).tolist() + df_beers_VT.as_matrix(['lat', 'lng']).tolist()\n",
    "beers_CA_VT_heatmap = folium.Map(location=[40, -102],tiles='stamentoner', zoom_start=4)\n",
    "HeatMap(data,radius=15).add_to(beers_CA_VT_heatmap)\n",
    "beers_CA_VT_heatmap"
   ]
  },
  {
   "cell_type": "markdown",
   "metadata": {},
   "source": [
    "### Beers by city (MarkerCluster)"
   ]
  },
  {
   "cell_type": "code",
   "execution_count": null,
   "metadata": {},
   "outputs": [],
   "source": [
    "data = df_beers_CA.as_matrix(['lat', 'lng']).tolist()\n",
    "beers_CA_markermap = folium.Map(location=[37, -120], zoom_start=6)\n",
    "FastMarkerCluster(data=data).add_to(beers_CA_markermap)\n",
    "beers_CA_markermap"
   ]
  },
  {
   "cell_type": "code",
   "execution_count": null,
   "metadata": {},
   "outputs": [],
   "source": [
    "data = df_beers_VT.as_matrix(['lat', 'lng']).tolist()\n",
    "beers_VT_markermap = folium.Map(location=[44, -73], zoom_start=7)\n",
    "FastMarkerCluster(data=data).add_to(beers_VT_markermap)\n",
    "beers_VT_markermap"
   ]
  },
  {
   "cell_type": "code",
   "execution_count": null,
   "metadata": {
    "scrolled": true
   },
   "outputs": [],
   "source": [
    "data = df_beers_CA.as_matrix(['lat', 'lng']).tolist() + df_beers_VT.as_matrix(['lat', 'lng']).tolist()\n",
    "beers_markermap = folium.Map(location=[40, -102], zoom_start=4)\n",
    "FastMarkerCluster(data=data).add_to(beers_markermap)\n",
    "beers_markermap"
   ]
  },
  {
   "cell_type": "markdown",
   "metadata": {},
   "source": [
    "### Beers by city (Plotly Bubble Maps)"
   ]
  },
  {
   "cell_type": "code",
   "execution_count": 78,
   "metadata": {},
   "outputs": [],
   "source": [
    "API_KEY = 'iqJqlRcPKIHqjD1B0DVQ'\n",
    "plotly.tools.set_credentials_file(username='semendez', api_key=API_KEY)"
   ]
  },
  {
   "cell_type": "code",
   "execution_count": 153,
   "metadata": {},
   "outputs": [],
   "source": [
    "# df = pd.read_csv('https://raw.githubusercontent.com/plotly/datasets/master/2014_us_cities.csv')\n",
    "df_beers_by_city['text'] = df_beers_by_city['city'] + '<br>Beers: ' + (df_beers_by_city['beers_count']).astype(str)\n",
    "limits = [(0,3),(3,10),(10,20),(20,50),(50,2000)]\n",
    "colors = [\"rgb(0,116,217)\",\"rgb(255,65,54)\",\"rgb(133,20,75)\",\"rgb(255,133,27)\",\"lightgrey\"]\n",
    "cities = []\n",
    "scale = 5"
   ]
  },
  {
   "cell_type": "code",
   "execution_count": 154,
   "metadata": {},
   "outputs": [],
   "source": [
    "for i in range(len(limits)):\n",
    "    lim = limits[i]\n",
    "    df_sub = df_beers_by_city[lim[0]:lim[1]]\n",
    "    city = dict(\n",
    "        type = 'scattergeo',\n",
    "        locationmode = 'USA-states',\n",
    "        lon = df_sub['lng'],\n",
    "        lat = df_sub['lat'],\n",
    "        text = df_sub['text'],\n",
    "        marker = dict(\n",
    "            size = df_sub['beers_count']//scale,\n",
    "            color = colors[i],\n",
    "            line = dict(width=0.5, color='rgb(40,40,40)'),\n",
    "            sizemode = 'area'\n",
    "        ),\n",
    "        name = '{0} - {1}'.format(lim[0],lim[1]) )\n",
    "    cities.append(city)"
   ]
  },
  {
   "cell_type": "code",
   "execution_count": 155,
   "metadata": {
    "collapsed": true
   },
   "outputs": [],
   "source": [
    "layout = dict(\n",
    "        title = '2014 US city populations<br>(Click legend to toggle traces)',\n",
    "        showlegend = True,\n",
    "        geo = dict(\n",
    "            scope='usa',\n",
    "            projection=dict( type='albers usa' ),\n",
    "            showland = True,\n",
    "            landcolor = 'rgb(217, 217, 217)',\n",
    "            subunitwidth=1,\n",
    "            countrywidth=1,\n",
    "            subunitcolor=\"rgb(255, 255, 255)\",\n",
    "            countrycolor=\"rgb(255, 255, 255)\"\n",
    "        ),\n",
    "    )"
   ]
  },
  {
   "cell_type": "code",
   "execution_count": 156,
   "metadata": {},
   "outputs": [
    {
     "name": "stdout",
     "output_type": "stream",
     "text": [
      "High five! You successfully sent some data to your account on plotly. View your plot in your browser at https://plot.ly/~semendez/0 or inside your plot.ly account where it is named 'd3-bubble-map-populations'\n"
     ]
    },
    {
     "data": {
      "text/html": [
       "<iframe id=\"igraph\" scrolling=\"no\" style=\"border:none;\" seamless=\"seamless\" src=\"https://plot.ly/~semendez/0.embed\" height=\"525px\" width=\"100%\"></iframe>"
      ],
      "text/plain": [
       "<plotly.tools.PlotlyDisplay object>"
      ]
     },
     "execution_count": 156,
     "metadata": {},
     "output_type": "execute_result"
    }
   ],
   "source": [
    "fig = dict( data=cities, layout=layout )\n",
    "py.iplot( fig, validate=False, filename='d3-bubble-map-populations', sharing='public')"
   ]
  },
  {
   "cell_type": "markdown",
   "metadata": {},
   "source": [
    "## Resources"
   ]
  },
  {
   "cell_type": "markdown",
   "metadata": {},
   "source": [
    "* US States JSON: https://github.com/python-visualization/folium/blob/master/examples/data/us-states.json\n",
    "* US States Abbreviations: https://gist.githubusercontent.com/rogerallen/1583593/raw/74f2ef57ac82d60dc1e7ae871d1a9c60c9953fac/us_state_abbrev.py\n",
    "* Population Estimates: https://www.kaggle.com/sheetskg/est-population-us-states-puerto-rico-20102017/data"
   ]
  },
  {
   "cell_type": "code",
   "execution_count": null,
   "metadata": {
    "collapsed": true
   },
   "outputs": [],
   "source": []
  }
 ],
 "metadata": {
  "kernelspec": {
   "display_name": "Python 3",
   "language": "python",
   "name": "python3"
  },
  "language_info": {
   "codemirror_mode": {
    "name": "ipython",
    "version": 3
   },
   "file_extension": ".py",
   "mimetype": "text/x-python",
   "name": "python",
   "nbconvert_exporter": "python",
   "pygments_lexer": "ipython3",
   "version": "3.6.3"
  },
  "toc": {
   "nav_menu": {},
   "number_sections": true,
   "sideBar": true,
   "skip_h1_title": false,
   "toc_cell": false,
   "toc_position": {},
   "toc_section_display": "block",
   "toc_window_display": false
  }
 },
 "nbformat": 4,
 "nbformat_minor": 2
}
