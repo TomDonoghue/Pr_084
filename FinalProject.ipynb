{
 "cells": [
  {
   "cell_type": "markdown",
   "metadata": {
    "collapsed": true
   },
   "source": [
    "## Group Members"
   ]
  },
  {
   "cell_type": "markdown",
   "metadata": {},
   "source": [
    "- (Name): A10673470\n",
    "- (Name): A12351940\n",
    "- (Name): A12138344\n",
    "- (Name): A91112629\n",
    "- Saul Mendez: A91018689\n",
    "- (Name): A12450393"
   ]
  },
  {
   "cell_type": "markdown",
   "metadata": {},
   "source": [
    "## Imports"
   ]
  },
  {
   "cell_type": "code",
   "execution_count": 4,
   "metadata": {
    "collapsed": true
   },
   "outputs": [],
   "source": [
    "import pandas as pd\n",
    "import numpy as np"
   ]
  },
  {
   "cell_type": "markdown",
   "metadata": {},
   "source": [
    "## Introduction"
   ]
  },
  {
   "cell_type": "markdown",
   "metadata": {},
   "source": [
    "** Reserach Question **\n",
    "\n",
    "What are the most common styles of craft beer by region in the United States?"
   ]
  },
  {
   "cell_type": "markdown",
   "metadata": {},
   "source": [
    "** Hypothesis **\n",
    "\n",
    "From our general background knowledge as consumers,  we believe Indian Pale Ales (IPA) are probably the most commonly produced style overall. However, we think that the California especially favors IPA’s and that other states will generally have more variety and a more spread out distribution of other types of beers."
   ]
  },
  {
   "cell_type": "markdown",
   "metadata": {},
   "source": [
    "** Dataset(s) **\n",
    "\n",
    "What data will you use to answer your question? Describe the dataset(s) in terms of number of observations, what kind of features it contains, etc. You must use at least one dataset containing at least approximately 1000 observations (if your data are smaller but you feel they are sufficient, email Prof. Voytek). You are welcome (and in fact recommended) to find multiple datasets! If you do so, describe each one, and briefly explain how you will combine them together. "
   ]
  },
  {
   "cell_type": "markdown",
   "metadata": {
    "collapsed": true
   },
   "source": [
    "- **Name:** beers.csv\n",
    "- **Description:** This is a dataset of craft canned beers in America scraped from craftcans.com\n",
    "- **Link:** https://github.com/nickhould/craft-beers-dataset/blob/master/data/processed/beers.csv\n",
    "- **Observations:** 2,409\n",
    "- **Features:** \n",
    " - abv - alcohol by volume as a percentage\n",
    " - ibu - bitterness rating\n",
    " - id - identifier for each beer\n",
    " - name - name of the beer\n",
    " - style - style of beer (pale ale, stout, lager, etc)\n",
    " - brewery_id - identifier for breweries\n",
    " - ounces - volume of beer in ounces\n",
    "\n",
    "\n",
    "- **Name:** breweries.csv\n",
    "- **Description:** This is a dataset of craft canned beers in America scraped from craftcans.com\n",
    "- **Link:** https://github.com/nickhould/craft-beers-dataset/blob/master/data/processed/breweries.csv\n",
    "- **Observations:** 557\n",
    "- **Features:**\n",
    " - name - name of the beer\n",
    " - city - city where brewery is located\n",
    " - state - state where brewery is located\n",
    " - id - identifier for breweries\n",
    "\n",
    "We will merge the datasets by adding location data from breweries.csv as new labels in beers.csv, matching up the id in the former to the brewery_id in the latter."
   ]
  },
  {
   "cell_type": "markdown",
   "metadata": {},
   "source": [
    "## Background and Prior Work"
   ]
  },
  {
   "cell_type": "markdown",
   "metadata": {},
   "source": [
    "** Why is this question of interest, what background information led you to your hypothesis, and why is this important? **\n",
    "\n",
    "Our team likes beer, and we also travel. It’s interesting to us how different the varieties of available beer are in other countries and how America’s newfound love for beer has made the craft brewing scene evolve differently than it did in other regions of the world. Since America itself is a large country and has different cultures within it, we’re wondering if different parts of the United States have differing preferences for style of beer. We know IPA’s are huge on the West Coast, but is that true in other states as well?\n",
    "\n",
    "We found inspiration from an interesting study by Brewer’s Association that looks at number of craft breweries by state and has some general stats showing trends of how popular craft beer is in general. We also found a cool interactive map that was made by a team at University of Kentucky which actually measures popularity of the types of beers by scraping tweets. The issue with that tool is that it’s based off of social media hype which does not necessarily indicate what’s available on the market. Additionally, it isn’t as easy to identify which styles are most prominent since the available tags include styles such as “Weiss” but also specific brands like “Corona.” This means that it includes non-craft beers.\n",
    "\n",
    "**References:**\n",
    "https://www.brewersassociation.org/statistics/by-state/\n",
    "http://newmapsplus.uky.edu/gallery/beer-tweets/#"
   ]
  },
  {
   "cell_type": "markdown",
   "metadata": {},
   "source": [
    "## Methods"
   ]
  },
  {
   "cell_type": "markdown",
   "metadata": {},
   "source": [
    "..."
   ]
  },
  {
   "cell_type": "markdown",
   "metadata": {},
   "source": [
    "## Ethics and Privacy"
   ]
  },
  {
   "cell_type": "markdown",
   "metadata": {},
   "source": [
    "Information regarding beer is considered public information in the United States. Data.GOV provides datasets regarding beer sales and production. In our project we will be mostly looking at the characteristics of different beers in different states. The datasets we acquired are legal and we have permission to collect and analyze the information. Explicit permission has been granted from an MIT License to “use, copy, modify, merge, publish, distribute, sublicense, and/or sell copies of the Software” and the data provided. Regarding the privacy concerns of the datasets, brewing companies publicly release information about their beers for marketing or health regulation concerns. Therefore, there exists no privacy concern as brewing companies must make this information public and available. Part of our goal is to collect information of as many beers as possible as this will help us eliminate biases. We promise to not include personal biases on beers and/or exclude beers for any reason that would affect the ethics of this project. Any impact and issues that result from our analysis will not be made public and are for the purpose of this class and ourselves only. Any issues we identify during the project will be kept within the group and not made public until further research on how to handle the issue. We must clarify, we do not endorse the consumption of alcohol neither do we intend to harm the reputation of any specific beers. The data analyzed will be for informative purposes, beer lovers and science. \n"
   ]
  },
  {
   "cell_type": "markdown",
   "metadata": {},
   "source": [
    "## Discussion"
   ]
  },
  {
   "cell_type": "markdown",
   "metadata": {},
   "source": [
    "Our project will utilize datasets representing a wide variety of beers and breweries present in the United States. We are very interested in beer preferences within groups and believe that preferences might be heavily influenced by the location of the individual. With the recent phenomenon of craft beer in the USA, we are interested in studying the patterns of behavior exhibited by populations. We hope that we will be able to create a map of the country depicting the most popular types of beers in specific geographical regions. This might lead to a better understanding of different regional preferences. We particularly feel that states outside of California have more diversity and aren’t as saturated with just IPA’s.\n",
    "\n",
    "Overall, we hypothesize the most popular beer is the Indian Pale Ale and that the variety is greater outside of California. Whether or not our hypothesis is correct, we’re more interested in exploring the distributions of styles and trends across regions as a whole. Most similar research just tries to look at the craft beer movement as a whole or compares different brands. We will contribute by looking at which styles are most popular in America and break it down by region, something we have not really seen. The dataset, while it will need some cleaning does not seem like it will pose any major issues in helping us answer our question, but we may have to get creative with how we visualize the comparison of different styles of beer by state. \n",
    "\n",
    "Since the data we could find only consists of canned beers, there is a possibility that the trends we see do not fully apply to the craft movement as a whole. We’re willing to work with this caveat because beer in a can is not seen as negatively as it once was, and the canned form especially seems to be welcomed in the craft beer community. Therefore, we believe that the 2,000+ canned beers are mostly representative of the craft beer market as a whole.\n"
   ]
  },
  {
   "cell_type": "markdown",
   "metadata": {},
   "source": [
    "## Conclusion"
   ]
  },
  {
   "cell_type": "markdown",
   "metadata": {},
   "source": [
    "..."
   ]
  },
  {
   "cell_type": "markdown",
   "metadata": {},
   "source": [
    "## Future Work"
   ]
  },
  {
   "cell_type": "markdown",
   "metadata": {},
   "source": [
    "..."
   ]
  },
  {
   "cell_type": "markdown",
   "metadata": {},
   "source": [
    "## Resources"
   ]
  },
  {
   "cell_type": "markdown",
   "metadata": {},
   "source": [
    "..."
   ]
  },
  {
   "cell_type": "code",
   "execution_count": null,
   "metadata": {
    "collapsed": true
   },
   "outputs": [],
   "source": []
  }
 ],
 "metadata": {
  "kernelspec": {
   "display_name": "Python 3",
   "language": "python",
   "name": "python3"
  },
  "language_info": {
   "codemirror_mode": {
    "name": "ipython",
    "version": 3
   },
   "file_extension": ".py",
   "mimetype": "text/x-python",
   "name": "python",
   "nbconvert_exporter": "python",
   "pygments_lexer": "ipython3",
   "version": "3.6.3"
  },
  "toc": {
   "nav_menu": {},
   "number_sections": true,
   "sideBar": true,
   "skip_h1_title": false,
   "toc_cell": false,
   "toc_position": {},
   "toc_section_display": "block",
   "toc_window_display": false
  }
 },
 "nbformat": 4,
 "nbformat_minor": 2
}
