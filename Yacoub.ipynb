{
 "cells": [
  {
   "cell_type": "code",
   "execution_count": 1,
   "metadata": {
    "collapsed": true
   },
   "outputs": [],
   "source": [
    "import pandas as pd"
   ]
  },
  {
   "cell_type": "code",
   "execution_count": 2,
   "metadata": {
    "collapsed": true
   },
   "outputs": [],
   "source": [
    "df = pd.read_csv('ucsd-sansdescrip03162018.csv', sep=\"|\")"
   ]
  },
  {
   "cell_type": "code",
   "execution_count": 3,
   "metadata": {},
   "outputs": [
    {
     "data": {
      "text/plain": [
       "India Pale Ale                     33411\n",
       "American Pale Ale                  16908\n",
       "Imperial IPA                       14052\n",
       "Saison                             13546\n",
       "Sour/Wild Ale                      11981\n",
       "Imperial Stout                     11800\n",
       "Porter                              9883\n",
       "Stout                               8603\n",
       "Spice/Herb/Vegetable                8368\n",
       "Brown Ale                           8088\n",
       "Fruit Beer                          7700\n",
       "Amber Ale                           7206\n",
       "Golden Ale/Blond Ale                5903\n",
       "Belgian Ale                         5485\n",
       "Sweet Stout                         5286\n",
       "Wheat Ale                           5274\n",
       "American Strong Ale                 5103\n",
       "Cider                               4858\n",
       "Barley Wine                         4360\n",
       "Belgian Strong Ale                  4216\n",
       "Berliner Weisse                     3870\n",
       "Witbier                             3731\n",
       "Pilsener                            3718\n",
       "Black IPA                           3694\n",
       "Mead                                3524\n",
       "German Hefeweizen                   3464\n",
       "Session IPA                         3442\n",
       "Specialty Grain                     3094\n",
       "Oktoberfest/Märzen                  2987\n",
       "Scotch Ale                          2634\n",
       "                                   ...  \n",
       "English Strong Ale                   750\n",
       "Czech Pilsner (Světlý)               681\n",
       "Imperial Pils/Strong Pale Lager      657\n",
       "Foreign Stout                        578\n",
       "Radler/Shandy                        563\n",
       "Zwickel/Keller/Landbier              464\n",
       "Malt Liquor                          441\n",
       "Lambic Style - Fruit                 336\n",
       "Perry                                236\n",
       "German Kristallweizen                149\n",
       "Eisbock                              132\n",
       "Sahti/Gotlandsdricke/Koduõlu         110\n",
       "Ice Cider/Ice Perry                   80\n",
       "Low Alcohol                           78\n",
       "Lambic Style - Unblended              65\n",
       "Lambic Style - Gueuze                 58\n",
       "Saké - Infused                        49\n",
       "Saké - Junmai                         35\n",
       "Saké - Ginjo                          31\n",
       "Saké - Nigori                         21\n",
       "Polotmavý                             19\n",
       "Saké - Genshu                         12\n",
       "Saké - Namasaké                       12\n",
       "Saké - Futsu-shu                      11\n",
       "Lambic Style - Faro                    6\n",
       "Saké - Daiginjo                        5\n",
       "Saké - Tokubetsu                       4\n",
       "Saké - Koshu                           1\n",
       "Saké - Taru                            1\n",
       "Saké - Honjozo                         1\n",
       "Name: BeerStyleName, Length: 94, dtype: int64"
      ]
     },
     "execution_count": 3,
     "metadata": {},
     "output_type": "execute_result"
    }
   ],
   "source": [
    "df.BeerStyleName.replace(to_replace=\"India Pale Ale &#40;IPA&#41;\",value=\"India Pale Ale\", inplace=True)\n",
    "df.BeerStyleName.replace(to_replace=\"Czech Pilsner (Sv&#283;tlý)\",value=\"Czech Pilsner (Světlý)\", inplace=True)\n",
    "\n",
    "df = df.drop([285995])\n",
    "\n",
    "df.to_csv('beers_grouped.csv')\n",
    "\n",
    "\n",
    "df.BeerStyleName.value_counts()"
   ]
  },
  {
   "cell_type": "markdown",
   "metadata": {},
   "source": [
    "### Nationally, IPA's and Pale Ale's in general overwhelm other styles by production. Let's see if any particular states are the culpirits for this pale ale craze."
   ]
  },
  {
   "cell_type": "code",
   "execution_count": 4,
   "metadata": {},
   "outputs": [],
   "source": [
    "states = df.Abbrev.value_counts().index\n",
    "\n",
    "states_df = pd.DataFrame.from_dict(states)\n",
    "\n",
    "states_df.columns = ['states']\n",
    "states_df.sort_values(by=['states'],inplace=True)\n",
    "states_df.reset_index(drop=True)\n",
    "\n",
    "def state_style(state):\n",
    "\n",
    "    return df.loc[df['Abbrev'] == state].BeerStyleName.value_counts().index[:10].values"
   ]
  },
  {
   "cell_type": "code",
   "execution_count": 5,
   "metadata": {
    "collapsed": true
   },
   "outputs": [],
   "source": [
    "mostCommonByState = pd.Series()\n",
    "\n",
    "for row in states_df.itertuples():\n",
    "    mostCommonStyles10 = state_style(row.states)\n",
    "    mostCommonByState[row.states] = mostCommonStyles10[0]"
   ]
  },
  {
   "cell_type": "code",
   "execution_count": 6,
   "metadata": {
    "scrolled": true
   },
   "outputs": [
    {
     "data": {
      "text/plain": [
       "India Pale Ale       48\n",
       "Saison                1\n",
       "American Pale Ale     1\n",
       "Imperial Stout        1\n",
       "dtype: int64"
      ]
     },
     "execution_count": 6,
     "metadata": {},
     "output_type": "execute_result"
    }
   ],
   "source": [
    "mostCommonByState.value_counts()"
   ]
  },
  {
   "cell_type": "markdown",
   "metadata": {},
   "source": [
    "### With the exception of one state, the hype around IPA's has affected the entire nation and is only beat out in 3 states, 2 of which still just have a different kind of pale ale at the top. Let's see which beers would be most popular if we ignored pale ales."
   ]
  },
  {
   "cell_type": "code",
   "execution_count": 7,
   "metadata": {},
   "outputs": [],
   "source": [
    "for row in states_df.itertuples():\n",
    "    mostCommonStyles10 = state_style(row.states)\n",
    "    mostCommonStyles3 = []\n",
    "    i = 0\n",
    "    while (len(mostCommonStyles3) < 3):\n",
    "        if (mostCommonStyles10[i] not in ['India Pale Ale', 'American Pale Ale', 'Imperial IPA', 'Saison']):\n",
    "            mostCommonStyles3.append(mostCommonStyles10[i])\n",
    "        i += 1;\n",
    "    states_df.set_value(col='most_common', index=row.Index, value=mostCommonStyles3[0])\n",
    "    states_df.set_value(col='second_most', index=row.Index, value=mostCommonStyles3[1])\n",
    "    states_df.set_value(col='third_most', index=row.Index, value=mostCommonStyles3[2])\n",
    "    "
   ]
  },
  {
   "cell_type": "code",
   "execution_count": 8,
   "metadata": {},
   "outputs": [
    {
     "data": {
      "text/plain": [
       "Sour/Wild Ale           13\n",
       "Imperial Stout          12\n",
       "Porter                   8\n",
       "Mead                     4\n",
       "Amber Ale                3\n",
       "Spice/Herb/Vegetable     3\n",
       "Stout                    3\n",
       "Fruit Beer               2\n",
       "Barley Wine              1\n",
       "Cider                    1\n",
       "Golden Ale/Blond Ale     1\n",
       "Name: most_common, dtype: int64"
      ]
     },
     "execution_count": 8,
     "metadata": {},
     "output_type": "execute_result"
    }
   ],
   "source": [
    "states_df.most_common.value_counts()"
   ]
  },
  {
   "cell_type": "markdown",
   "metadata": {},
   "source": [
    "### This ranking looks quite similar to the results of the national style ranking (excluding pale ales), suggesting that there may not be too much variation in style production by region."
   ]
  },
  {
   "cell_type": "code",
   "execution_count": 10,
   "metadata": {},
   "outputs": [],
   "source": [
    "styles_df = df.drop(axis=1, labels=['Entered','BrewerCity','Abbrev','BrewerZIPCode'])\n",
    "\n",
    "styles_df['BeerStyleGroup'] = styles_df.BeerStyleName\n",
    "\n",
    "styles_df.BeerStyleGroup.replace(to_replace=[\"Altbier\",\"Amber Ale\",\"American Pale Ale\",\"American Strong Ale\",\"American Strong Ale \",\"Barley Wine\",\"Bitter\",\"Brown Ale\",\"Cream Ale\",\"English Pale Ale\",\"English Strong Ale\",\"Golden Ale/Blond Ale\",\"Imperial IPA\",\"India Pale Ale (IPA)\",\"India Pale Ale &#40;IPA&#41;\",\"Irish Ale\",\"Kölsch\",\"Mild Ale\",\"Old Ale\",\"Premium Bitter/ESB\",\"Scotch Ale\",\"Scottish Ale\",\"Session IPA\"], value=\"Anglo-American Ales\",inplace=True)\n",
    "styles_df.BeerStyleGroup.replace(to_replace=[\"Amber Lager/Vienna\",\"California Common\",\"Czech Pilsner (Světlý)\",\"Czech Pilsner (Sv&#283;tlý)\",\"Doppelbock\",\"Dortmunder/Helles\",\"Dunkel/Tmavý\",\"Dunkler Bock\",\"Eisbock\",\"Heller Bock\",\"Imperial Pils/Strong Pale Lager\",\"India Style Lager\",\"Malt Liquor\",\"Oktoberfest/Märzen\",\"Pale Lager\",\"Pilsener\",\"Polotmavý\",\"Premium Lager\",\"Radler/Shandy\",\"Schwarzbier\",\"Zwickel/Keller/Landbier\"], value=\"Lagers\",inplace=True)\n",
    "styles_df.BeerStyleGroup.replace(to_replace=[\"Abbey Dubbel\",\"Abbey Tripel\",\"Abt/Quadrupel\",\"Belgian Ale\",\"Belgian Strong Ale\",\"Bière de Garde\",\"Saison\"], value=\"Belgian-Style Ales\",inplace=True)\n",
    "styles_df.BeerStyleGroup.replace(to_replace=[\"Baltic Porter\",\"Black IPA\",\"Dry Stout\",\"Foreign Stout\",\"Imperial Porter\",\"Imperial Stout\",\"Porter\",\"Stout\",\"Sweet Stout\"], value=\"Stout and Porter\",inplace=True)\n",
    "styles_df.BeerStyleGroup.replace(to_replace=[\"Dunkelweizen\",\"German Hefeweizen\",\"German Kristallweizen\",\"Grodziskie/Gose/Lichtenhainer\",\"Weizenbock\",\"Wheat Ale\",\"Witbier\"], value=\"Wheat Beer\",inplace=True)\n",
    "styles_df.BeerStyleGroup.replace(to_replace=[\"Berliner Weisse\",\"Lambic Style - Faro\",\"Lambic Style - Fruit\",\"Lambic Style - Gueuze\",\"Lambic Style - Unblended\",\"Sour Red/Brown\",\"Sour/Wild Ale\"], value=\"Sour Beer\",inplace=True)\n",
    "styles_df.BeerStyleGroup.replace(to_replace=[\"Fruit Beer\",\"Low Alcohol\",\"Sahti/Gotlandsdricke/Koduõlu\",\"Smoked\",\"Specialty Grain\",\"Spice/Herb/Vegetable\",\"Traditional Ale\"], value=\"Other\",inplace=True)\n",
    "styles_df.BeerStyleGroup.replace(to_replace=[\"Cider\",\"Ice Cider/Ice Perry\",\"Mead\",\"Perry\",\"Saké - Daiginjo\",\"Saké - Futsu-shu\",\"Saké - Genshu\",\"Saké - Ginjo\",\"Saké - Honjozo\",\"Saké - Infused\",\"Saké - Junmai\",\"Saké - Koshu\",\"Saké - Namasaké\",\"Saké - Nigori\",\"Saké - Taru\",\"Saké - Tokubetsu\"], value=\"Cider, Mead, Sake\",inplace=True)\n",
    "\n",
    "styles_df['RateCount'] = df.RateCount"
   ]
  },
  {
   "cell_type": "code",
   "execution_count": 24,
   "metadata": {},
   "outputs": [],
   "source": [
    "styles_hype = {}\n",
    "\n",
    "for value in styles_df.BeerStyleName.value_counts().index:\n",
    "    styles_hype[value] = 0\n",
    "    \n",
    "for row in styles_df.itertuples():\n",
    "    styles_hype[row.BeerStyleName] += row.RateCount"
   ]
  },
  {
   "cell_type": "code",
   "execution_count": 57,
   "metadata": {},
   "outputs": [],
   "source": [
    "hype_df = pd.DataFrame(columns=['hype'])\n",
    "\n",
    "hype_df.hype = pd.Series(styles_hype).sort_values(ascending=False)"
   ]
  },
  {
   "cell_type": "code",
   "execution_count": 73,
   "metadata": {},
   "outputs": [],
   "source": [
    "hype_df['normal_hype'] = hype_df['hype'].apply(lambda x: x / hype_df.hype.sum())\n",
    "for row in hype_df.itertuples():\n",
    "    value = (round(row.normal_hype, 3))\n",
    "    hype_df.set_value(col='normal_hype', index=row.Index, value=value)"
   ]
  },
  {
   "cell_type": "code",
   "execution_count": 86,
   "metadata": {},
   "outputs": [],
   "source": [
    "styles_counts = df.BeerStyleName.value_counts()\n",
    "\n",
    "hype_df['relative_hype'] = hype_df.hype\n",
    "\n",
    "for row in hype_df.itertuples():\n",
    "    value = row.hype / styles_counts[row.Index]\n",
    "    value = round(value, 3)\n",
    "    hype_df.set_value(col='relative_hype', index=row.Index, value=value)\n",
    "    \n",
    "median_hype = hype_df.relative_hype.median()    \n",
    "hype_df['relative_hype'] = hype_df['relative_hype'].apply(lambda x: x - median_hype)"
   ]
  },
  {
   "cell_type": "code",
   "execution_count": 93,
   "metadata": {},
   "outputs": [
    {
     "data": {
      "text/plain": [
       "Lambic Style - Gueuze    30.234\n",
       "Malt Liquor              17.910\n",
       "Barley Wine              16.200\n",
       "Low Alcohol              15.895\n",
       "Pale Lager               15.481\n",
       "Imperial Stout           13.237\n",
       "American Strong Ale      11.754\n",
       "Saké - Futsu-shu         11.698\n",
       "Old Ale                  11.584\n",
       "English Strong Ale       11.171\n",
       "Name: relative_hype, dtype: float64"
      ]
     },
     "execution_count": 93,
     "metadata": {},
     "output_type": "execute_result"
    }
   ],
   "source": [
    "hype_df.relative_hype.sort_values(ascending=False)[:10]"
   ]
  },
  {
   "cell_type": "markdown",
   "metadata": {},
   "source": [
    "### Even though the IPA has by far the most beers entered into the RateBeer database, it does not have the most reviews relatives to the number of beers. The list of top 10 most reviewed beer styles is shown above. This probably suggests that the IPA craze started well after RateBeer was launched and that these other beers have been accumulating ratings. We should analyze ratings over time."
   ]
  },
  {
   "cell_type": "code",
   "execution_count": 96,
   "metadata": {},
   "outputs": [],
   "source": [
    "states_df.to_csv('state_styles.csv')"
   ]
  }
 ],
 "metadata": {
  "kernelspec": {
   "display_name": "Python 3",
   "language": "python",
   "name": "python3"
  },
  "language_info": {
   "codemirror_mode": {
    "name": "ipython",
    "version": 3
   },
   "file_extension": ".py",
   "mimetype": "text/x-python",
   "name": "python",
   "nbconvert_exporter": "python",
   "pygments_lexer": "ipython3",
   "version": "3.6.3"
  },
  "toc": {
   "nav_menu": {},
   "number_sections": true,
   "sideBar": true,
   "skip_h1_title": false,
   "toc_cell": false,
   "toc_position": {},
   "toc_section_display": "block",
   "toc_window_display": false
  }
 },
 "nbformat": 4,
 "nbformat_minor": 2
}
